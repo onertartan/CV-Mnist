{
  "nbformat": 4,
  "nbformat_minor": 0,
  "metadata": {
    "colab": {
      "provenance": [],
      "mount_file_id": "1R4jwWQam-QNwOHq8dDnaBBLyojQayCzp",
      "authorship_tag": "ABX9TyOAorHjo/8FEjC/fLzqkWOq",
      "include_colab_link": true
    },
    "kernelspec": {
      "name": "python3",
      "display_name": "Python 3"
    },
    "language_info": {
      "name": "python"
    }
  },
  "cells": [
    {
      "cell_type": "markdown",
      "metadata": {
        "id": "view-in-github",
        "colab_type": "text"
      },
      "source": [
        "<a href=\"https://colab.research.google.com/github/onertartan/CV-Mnist/blob/main/Mnist_csv_dense.ipynb\" target=\"_parent\"><img src=\"https://colab.research.google.com/assets/colab-badge.svg\" alt=\"Open In Colab\"/></a>"
      ]
    },
    {
      "cell_type": "code",
      "execution_count": null,
      "metadata": {
        "colab": {
          "base_uri": "https://localhost:8080/"
        },
        "id": "LdxktEb_YHab",
        "outputId": "33d0a711-d78a-4ab8-fdce-9b204a8eb5dc"
      },
      "outputs": [
        {
          "output_type": "execute_result",
          "data": {
            "text/plain": [
              "['mnist_test.csv', 'mnist_train.csv']"
            ]
          },
          "metadata": {},
          "execution_count": 1
        }
      ],
      "source": [
        "import os\n",
        "mnist_directory = \"drive/MyDrive/Data/mnist-csv\"\n",
        "os.listdir(mnist_directory)"
      ]
    },
    {
      "cell_type": "code",
      "source": [
        "import pandas as pd\n",
        "df_train = pd.read_csv( os.path.join(mnist_directory,\"mnist_train.csv\")  )\n",
        "df_val = pd.read_csv( os.path.join(mnist_directory,\"mnist_test.csv\")  )\n",
        "df_train.head()\n"
      ],
      "metadata": {
        "colab": {
          "base_uri": "https://localhost:8080/",
          "height": 236
        },
        "id": "XtyG6QkYZzba",
        "outputId": "44458b91-224c-45ff-bb60-e3217de4bcc6"
      },
      "execution_count": null,
      "outputs": [
        {
          "output_type": "execute_result",
          "data": {
            "text/plain": [
              "   label  1x1  1x2  1x3  1x4  1x5  1x6  1x7  1x8  1x9  ...  28x19  28x20  \\\n",
              "0      5    0    0    0    0    0    0    0    0    0  ...      0      0   \n",
              "1      0    0    0    0    0    0    0    0    0    0  ...      0      0   \n",
              "2      4    0    0    0    0    0    0    0    0    0  ...      0      0   \n",
              "3      1    0    0    0    0    0    0    0    0    0  ...      0      0   \n",
              "4      9    0    0    0    0    0    0    0    0    0  ...      0      0   \n",
              "\n",
              "   28x21  28x22  28x23  28x24  28x25  28x26  28x27  28x28  \n",
              "0      0      0      0      0      0      0      0      0  \n",
              "1      0      0      0      0      0      0      0      0  \n",
              "2      0      0      0      0      0      0      0      0  \n",
              "3      0      0      0      0      0      0      0      0  \n",
              "4      0      0      0      0      0      0      0      0  \n",
              "\n",
              "[5 rows x 785 columns]"
            ],
            "text/html": [
              "\n",
              "  <div id=\"df-fb366aee-7ab3-4050-a358-2bee48c111cb\">\n",
              "    <div class=\"colab-df-container\">\n",
              "      <div>\n",
              "<style scoped>\n",
              "    .dataframe tbody tr th:only-of-type {\n",
              "        vertical-align: middle;\n",
              "    }\n",
              "\n",
              "    .dataframe tbody tr th {\n",
              "        vertical-align: top;\n",
              "    }\n",
              "\n",
              "    .dataframe thead th {\n",
              "        text-align: right;\n",
              "    }\n",
              "</style>\n",
              "<table border=\"1\" class=\"dataframe\">\n",
              "  <thead>\n",
              "    <tr style=\"text-align: right;\">\n",
              "      <th></th>\n",
              "      <th>label</th>\n",
              "      <th>1x1</th>\n",
              "      <th>1x2</th>\n",
              "      <th>1x3</th>\n",
              "      <th>1x4</th>\n",
              "      <th>1x5</th>\n",
              "      <th>1x6</th>\n",
              "      <th>1x7</th>\n",
              "      <th>1x8</th>\n",
              "      <th>1x9</th>\n",
              "      <th>...</th>\n",
              "      <th>28x19</th>\n",
              "      <th>28x20</th>\n",
              "      <th>28x21</th>\n",
              "      <th>28x22</th>\n",
              "      <th>28x23</th>\n",
              "      <th>28x24</th>\n",
              "      <th>28x25</th>\n",
              "      <th>28x26</th>\n",
              "      <th>28x27</th>\n",
              "      <th>28x28</th>\n",
              "    </tr>\n",
              "  </thead>\n",
              "  <tbody>\n",
              "    <tr>\n",
              "      <th>0</th>\n",
              "      <td>5</td>\n",
              "      <td>0</td>\n",
              "      <td>0</td>\n",
              "      <td>0</td>\n",
              "      <td>0</td>\n",
              "      <td>0</td>\n",
              "      <td>0</td>\n",
              "      <td>0</td>\n",
              "      <td>0</td>\n",
              "      <td>0</td>\n",
              "      <td>...</td>\n",
              "      <td>0</td>\n",
              "      <td>0</td>\n",
              "      <td>0</td>\n",
              "      <td>0</td>\n",
              "      <td>0</td>\n",
              "      <td>0</td>\n",
              "      <td>0</td>\n",
              "      <td>0</td>\n",
              "      <td>0</td>\n",
              "      <td>0</td>\n",
              "    </tr>\n",
              "    <tr>\n",
              "      <th>1</th>\n",
              "      <td>0</td>\n",
              "      <td>0</td>\n",
              "      <td>0</td>\n",
              "      <td>0</td>\n",
              "      <td>0</td>\n",
              "      <td>0</td>\n",
              "      <td>0</td>\n",
              "      <td>0</td>\n",
              "      <td>0</td>\n",
              "      <td>0</td>\n",
              "      <td>...</td>\n",
              "      <td>0</td>\n",
              "      <td>0</td>\n",
              "      <td>0</td>\n",
              "      <td>0</td>\n",
              "      <td>0</td>\n",
              "      <td>0</td>\n",
              "      <td>0</td>\n",
              "      <td>0</td>\n",
              "      <td>0</td>\n",
              "      <td>0</td>\n",
              "    </tr>\n",
              "    <tr>\n",
              "      <th>2</th>\n",
              "      <td>4</td>\n",
              "      <td>0</td>\n",
              "      <td>0</td>\n",
              "      <td>0</td>\n",
              "      <td>0</td>\n",
              "      <td>0</td>\n",
              "      <td>0</td>\n",
              "      <td>0</td>\n",
              "      <td>0</td>\n",
              "      <td>0</td>\n",
              "      <td>...</td>\n",
              "      <td>0</td>\n",
              "      <td>0</td>\n",
              "      <td>0</td>\n",
              "      <td>0</td>\n",
              "      <td>0</td>\n",
              "      <td>0</td>\n",
              "      <td>0</td>\n",
              "      <td>0</td>\n",
              "      <td>0</td>\n",
              "      <td>0</td>\n",
              "    </tr>\n",
              "    <tr>\n",
              "      <th>3</th>\n",
              "      <td>1</td>\n",
              "      <td>0</td>\n",
              "      <td>0</td>\n",
              "      <td>0</td>\n",
              "      <td>0</td>\n",
              "      <td>0</td>\n",
              "      <td>0</td>\n",
              "      <td>0</td>\n",
              "      <td>0</td>\n",
              "      <td>0</td>\n",
              "      <td>...</td>\n",
              "      <td>0</td>\n",
              "      <td>0</td>\n",
              "      <td>0</td>\n",
              "      <td>0</td>\n",
              "      <td>0</td>\n",
              "      <td>0</td>\n",
              "      <td>0</td>\n",
              "      <td>0</td>\n",
              "      <td>0</td>\n",
              "      <td>0</td>\n",
              "    </tr>\n",
              "    <tr>\n",
              "      <th>4</th>\n",
              "      <td>9</td>\n",
              "      <td>0</td>\n",
              "      <td>0</td>\n",
              "      <td>0</td>\n",
              "      <td>0</td>\n",
              "      <td>0</td>\n",
              "      <td>0</td>\n",
              "      <td>0</td>\n",
              "      <td>0</td>\n",
              "      <td>0</td>\n",
              "      <td>...</td>\n",
              "      <td>0</td>\n",
              "      <td>0</td>\n",
              "      <td>0</td>\n",
              "      <td>0</td>\n",
              "      <td>0</td>\n",
              "      <td>0</td>\n",
              "      <td>0</td>\n",
              "      <td>0</td>\n",
              "      <td>0</td>\n",
              "      <td>0</td>\n",
              "    </tr>\n",
              "  </tbody>\n",
              "</table>\n",
              "<p>5 rows × 785 columns</p>\n",
              "</div>\n",
              "      <button class=\"colab-df-convert\" onclick=\"convertToInteractive('df-fb366aee-7ab3-4050-a358-2bee48c111cb')\"\n",
              "              title=\"Convert this dataframe to an interactive table.\"\n",
              "              style=\"display:none;\">\n",
              "        \n",
              "  <svg xmlns=\"http://www.w3.org/2000/svg\" height=\"24px\"viewBox=\"0 0 24 24\"\n",
              "       width=\"24px\">\n",
              "    <path d=\"M0 0h24v24H0V0z\" fill=\"none\"/>\n",
              "    <path d=\"M18.56 5.44l.94 2.06.94-2.06 2.06-.94-2.06-.94-.94-2.06-.94 2.06-2.06.94zm-11 1L8.5 8.5l.94-2.06 2.06-.94-2.06-.94L8.5 2.5l-.94 2.06-2.06.94zm10 10l.94 2.06.94-2.06 2.06-.94-2.06-.94-.94-2.06-.94 2.06-2.06.94z\"/><path d=\"M17.41 7.96l-1.37-1.37c-.4-.4-.92-.59-1.43-.59-.52 0-1.04.2-1.43.59L10.3 9.45l-7.72 7.72c-.78.78-.78 2.05 0 2.83L4 21.41c.39.39.9.59 1.41.59.51 0 1.02-.2 1.41-.59l7.78-7.78 2.81-2.81c.8-.78.8-2.07 0-2.86zM5.41 20L4 18.59l7.72-7.72 1.47 1.35L5.41 20z\"/>\n",
              "  </svg>\n",
              "      </button>\n",
              "      \n",
              "  <style>\n",
              "    .colab-df-container {\n",
              "      display:flex;\n",
              "      flex-wrap:wrap;\n",
              "      gap: 12px;\n",
              "    }\n",
              "\n",
              "    .colab-df-convert {\n",
              "      background-color: #E8F0FE;\n",
              "      border: none;\n",
              "      border-radius: 50%;\n",
              "      cursor: pointer;\n",
              "      display: none;\n",
              "      fill: #1967D2;\n",
              "      height: 32px;\n",
              "      padding: 0 0 0 0;\n",
              "      width: 32px;\n",
              "    }\n",
              "\n",
              "    .colab-df-convert:hover {\n",
              "      background-color: #E2EBFA;\n",
              "      box-shadow: 0px 1px 2px rgba(60, 64, 67, 0.3), 0px 1px 3px 1px rgba(60, 64, 67, 0.15);\n",
              "      fill: #174EA6;\n",
              "    }\n",
              "\n",
              "    [theme=dark] .colab-df-convert {\n",
              "      background-color: #3B4455;\n",
              "      fill: #D2E3FC;\n",
              "    }\n",
              "\n",
              "    [theme=dark] .colab-df-convert:hover {\n",
              "      background-color: #434B5C;\n",
              "      box-shadow: 0px 1px 3px 1px rgba(0, 0, 0, 0.15);\n",
              "      filter: drop-shadow(0px 1px 2px rgba(0, 0, 0, 0.3));\n",
              "      fill: #FFFFFF;\n",
              "    }\n",
              "  </style>\n",
              "\n",
              "      <script>\n",
              "        const buttonEl =\n",
              "          document.querySelector('#df-fb366aee-7ab3-4050-a358-2bee48c111cb button.colab-df-convert');\n",
              "        buttonEl.style.display =\n",
              "          google.colab.kernel.accessAllowed ? 'block' : 'none';\n",
              "\n",
              "        async function convertToInteractive(key) {\n",
              "          const element = document.querySelector('#df-fb366aee-7ab3-4050-a358-2bee48c111cb');\n",
              "          const dataTable =\n",
              "            await google.colab.kernel.invokeFunction('convertToInteractive',\n",
              "                                                     [key], {});\n",
              "          if (!dataTable) return;\n",
              "\n",
              "          const docLinkHtml = 'Like what you see? Visit the ' +\n",
              "            '<a target=\"_blank\" href=https://colab.research.google.com/notebooks/data_table.ipynb>data table notebook</a>'\n",
              "            + ' to learn more about interactive tables.';\n",
              "          element.innerHTML = '';\n",
              "          dataTable['output_type'] = 'display_data';\n",
              "          await google.colab.output.renderOutput(dataTable, element);\n",
              "          const docLink = document.createElement('div');\n",
              "          docLink.innerHTML = docLinkHtml;\n",
              "          element.appendChild(docLink);\n",
              "        }\n",
              "      </script>\n",
              "    </div>\n",
              "  </div>\n",
              "  "
            ]
          },
          "metadata": {},
          "execution_count": 2
        }
      ]
    },
    {
      "cell_type": "code",
      "source": [
        "df_train.shape,df_val.shape"
      ],
      "metadata": {
        "colab": {
          "base_uri": "https://localhost:8080/"
        },
        "id": "iteVo1ZEZ97o",
        "outputId": "7d91ae33-208b-45f6-e167-c2d88172180d"
      },
      "execution_count": null,
      "outputs": [
        {
          "output_type": "execute_result",
          "data": {
            "text/plain": [
              "((60000, 785), (10000, 785))"
            ]
          },
          "metadata": {},
          "execution_count": 3
        }
      ]
    },
    {
      "cell_type": "code",
      "source": [
        "x_train, y_train = df_train.iloc[:,1:].to_numpy(), df_train.iloc[:,0].to_numpy()\n",
        "x_val, y_val = df_val.iloc[:,1:].to_numpy(), df_val.iloc[:,0].to_numpy()\n",
        "x_train.shape, y_train.shape, x_val.shape, y_val.shape"
      ],
      "metadata": {
        "id": "4EOx_8RraS4x",
        "colab": {
          "base_uri": "https://localhost:8080/"
        },
        "outputId": "fa120299-286e-4c8c-91c8-2e4adc33789b"
      },
      "execution_count": null,
      "outputs": [
        {
          "output_type": "execute_result",
          "data": {
            "text/plain": [
              "((60000, 784), (60000,), (10000, 784), (10000,))"
            ]
          },
          "metadata": {},
          "execution_count": 4
        }
      ]
    },
    {
      "cell_type": "code",
      "source": [
        "x_train= x_train/ 255\n",
        "x_val = x_val/ 255\n"
      ],
      "metadata": {
        "id": "vdJVEQzWBFTb"
      },
      "execution_count": null,
      "outputs": []
    },
    {
      "cell_type": "code",
      "source": [
        "del df_train, df_val\n",
        "#%whos"
      ],
      "metadata": {
        "id": "mGoiGL2gartm"
      },
      "execution_count": null,
      "outputs": []
    },
    {
      "cell_type": "code",
      "source": [
        "from sklearn.model_selection import train_test_split\n",
        "x_train, x_test, y_train, y_test  =  train_test_split( x_train, y_train, test_size = 1/6)\n",
        "x_train.shape, x_test.shape"
      ],
      "metadata": {
        "colab": {
          "base_uri": "https://localhost:8080/"
        },
        "id": "CORARspoauvH",
        "outputId": "9c4bce7c-b3ae-4f5e-baf9-b122b8836818"
      },
      "execution_count": null,
      "outputs": [
        {
          "output_type": "execute_result",
          "data": {
            "text/plain": [
              "((50000, 784), (10000, 784))"
            ]
          },
          "metadata": {},
          "execution_count": 7
        }
      ]
    },
    {
      "cell_type": "markdown",
      "source": [
        "### CREATE, COMPILE, FIT MODEL"
      ],
      "metadata": {
        "id": "R1hfwl0Ucu1h"
      }
    },
    {
      "cell_type": "code",
      "source": [
        "from tensorflow.keras import Sequential\n",
        "from tensorflow.keras.layers import Dense\n",
        "from tensorflow.keras.optimizers import Adam\n",
        "from tensorflow.keras.losses import SparseCategoricalCrossentropy\n",
        "from tensorflow.keras.regularizers import L2\n"
      ],
      "metadata": {
        "id": "we-cfjNhczxW"
      },
      "execution_count": null,
      "outputs": []
    },
    {
      "cell_type": "code",
      "source": [
        "model = Sequential([Dense(128, activation = \"relu\"),\n",
        "                    Dense(64, activation =\"relu\"),\n",
        "                    Dense(10)])\n",
        "model.compile(optimizer = Adam(0.001), loss = SparseCategoricalCrossentropy(from_logits=True), metrics=[\"accuracy\"])\n",
        "history = model.fit(x_train,y_train, epochs = 30, validation_data=(x_val,y_val))"
      ],
      "metadata": {
        "colab": {
          "base_uri": "https://localhost:8080/"
        },
        "id": "8u4LdrhVdBIN",
        "outputId": "dbc3d694-6cdb-4d2f-86f2-e421a7de0efd"
      },
      "execution_count": null,
      "outputs": [
        {
          "output_type": "stream",
          "name": "stdout",
          "text": [
            "Epoch 1/30\n",
            "1563/1563 [==============================] - 8s 5ms/step - loss: 0.4526 - accuracy: 0.9191 - val_loss: 0.2916 - val_accuracy: 0.9568\n",
            "Epoch 2/30\n",
            "1563/1563 [==============================] - 8s 5ms/step - loss: 0.2764 - accuracy: 0.9570 - val_loss: 0.2482 - val_accuracy: 0.9597\n",
            "Epoch 3/30\n",
            "1563/1563 [==============================] - 8s 5ms/step - loss: 0.2392 - accuracy: 0.9628 - val_loss: 0.2388 - val_accuracy: 0.9610\n",
            "Epoch 4/30\n",
            "1563/1563 [==============================] - 7s 4ms/step - loss: 0.2169 - accuracy: 0.9667 - val_loss: 0.2108 - val_accuracy: 0.9668\n",
            "Epoch 5/30\n",
            "1563/1563 [==============================] - 7s 5ms/step - loss: 0.2011 - accuracy: 0.9698 - val_loss: 0.1997 - val_accuracy: 0.9690\n",
            "Epoch 6/30\n",
            "1563/1563 [==============================] - 7s 4ms/step - loss: 0.1890 - accuracy: 0.9720 - val_loss: 0.1937 - val_accuracy: 0.9690\n",
            "Epoch 7/30\n",
            "1563/1563 [==============================] - 7s 4ms/step - loss: 0.1819 - accuracy: 0.9724 - val_loss: 0.1899 - val_accuracy: 0.9703\n",
            "Epoch 8/30\n",
            "1563/1563 [==============================] - 7s 4ms/step - loss: 0.1747 - accuracy: 0.9736 - val_loss: 0.1846 - val_accuracy: 0.9689\n",
            "Epoch 9/30\n",
            "1563/1563 [==============================] - 7s 5ms/step - loss: 0.1687 - accuracy: 0.9748 - val_loss: 0.1795 - val_accuracy: 0.9696\n",
            "Epoch 10/30\n",
            "1563/1563 [==============================] - 7s 4ms/step - loss: 0.1656 - accuracy: 0.9748 - val_loss: 0.1669 - val_accuracy: 0.9741\n",
            "Epoch 11/30\n",
            "1563/1563 [==============================] - 7s 4ms/step - loss: 0.1604 - accuracy: 0.9761 - val_loss: 0.1752 - val_accuracy: 0.9712\n",
            "Epoch 12/30\n",
            "1563/1563 [==============================] - 8s 5ms/step - loss: 0.1584 - accuracy: 0.9752 - val_loss: 0.1673 - val_accuracy: 0.9735\n",
            "Epoch 13/30\n",
            "1563/1563 [==============================] - 7s 5ms/step - loss: 0.1531 - accuracy: 0.9773 - val_loss: 0.1687 - val_accuracy: 0.9713\n",
            "Epoch 14/30\n",
            "1563/1563 [==============================] - 7s 4ms/step - loss: 0.1507 - accuracy: 0.9778 - val_loss: 0.1617 - val_accuracy: 0.9725\n",
            "Epoch 15/30\n",
            "1563/1563 [==============================] - 7s 4ms/step - loss: 0.1505 - accuracy: 0.9762 - val_loss: 0.1588 - val_accuracy: 0.9737\n",
            "Epoch 16/30\n",
            "1563/1563 [==============================] - 7s 4ms/step - loss: 0.1459 - accuracy: 0.9775 - val_loss: 0.1820 - val_accuracy: 0.9652\n",
            "Epoch 17/30\n",
            "1563/1563 [==============================] - 7s 5ms/step - loss: 0.1474 - accuracy: 0.9770 - val_loss: 0.1512 - val_accuracy: 0.9756\n",
            "Epoch 18/30\n",
            "1563/1563 [==============================] - 7s 4ms/step - loss: 0.1458 - accuracy: 0.9765 - val_loss: 0.1699 - val_accuracy: 0.9694\n",
            "Epoch 19/30\n",
            "1563/1563 [==============================] - 7s 4ms/step - loss: 0.1434 - accuracy: 0.9780 - val_loss: 0.1672 - val_accuracy: 0.9702\n",
            "Epoch 20/30\n",
            "1563/1563 [==============================] - 7s 4ms/step - loss: 0.1435 - accuracy: 0.9778 - val_loss: 0.1546 - val_accuracy: 0.9746\n",
            "Epoch 21/30\n",
            "1563/1563 [==============================] - 7s 4ms/step - loss: 0.1392 - accuracy: 0.9792 - val_loss: 0.1535 - val_accuracy: 0.9746\n",
            "Epoch 22/30\n",
            "1563/1563 [==============================] - 7s 4ms/step - loss: 0.1399 - accuracy: 0.9779 - val_loss: 0.1475 - val_accuracy: 0.9750\n",
            "Epoch 23/30\n",
            "1563/1563 [==============================] - 7s 5ms/step - loss: 0.1374 - accuracy: 0.9786 - val_loss: 0.1608 - val_accuracy: 0.9729\n",
            "Epoch 24/30\n",
            "1563/1563 [==============================] - 7s 4ms/step - loss: 0.1363 - accuracy: 0.9788 - val_loss: 0.1617 - val_accuracy: 0.9725\n",
            "Epoch 25/30\n",
            "1563/1563 [==============================] - 7s 4ms/step - loss: 0.1371 - accuracy: 0.9794 - val_loss: 0.1670 - val_accuracy: 0.9692\n",
            "Epoch 26/30\n",
            "1563/1563 [==============================] - 7s 4ms/step - loss: 0.1377 - accuracy: 0.9778 - val_loss: 0.1564 - val_accuracy: 0.9724\n",
            "Epoch 27/30\n",
            "1563/1563 [==============================] - 7s 4ms/step - loss: 0.1350 - accuracy: 0.9789 - val_loss: 0.1576 - val_accuracy: 0.9718\n",
            "Epoch 28/30\n",
            "1563/1563 [==============================] - 7s 4ms/step - loss: 0.1356 - accuracy: 0.9778 - val_loss: 0.1678 - val_accuracy: 0.9692\n",
            "Epoch 29/30\n",
            "1563/1563 [==============================] - 7s 5ms/step - loss: 0.1345 - accuracy: 0.9789 - val_loss: 0.1693 - val_accuracy: 0.9665\n",
            "Epoch 30/30\n",
            "1563/1563 [==============================] - 7s 5ms/step - loss: 0.1307 - accuracy: 0.9799 - val_loss: 0.1552 - val_accuracy: 0.9730\n"
          ]
        }
      ]
    },
    {
      "cell_type": "markdown",
      "source": [
        "### VISUALIZE LEARNING CURVE"
      ],
      "metadata": {
        "id": "CpewcA7dxAG2"
      }
    },
    {
      "cell_type": "code",
      "source": [
        "epochs = (range(1,len(history.history[\"loss\"])+1))"
      ],
      "metadata": {
        "id": "HA1aEcejyBbd"
      },
      "execution_count": null,
      "outputs": []
    },
    {
      "cell_type": "code",
      "source": [
        "import matplotlib.pyplot as plt\n",
        "epochs = range(1,len(history.history[\"loss\"])+1) \n",
        "fig, (ax1,ax2) = plt.subplots(2,figsize=(10, 10))\n",
        "ax1.plot(epochs,history.history[\"loss\"],epochs,history.history[\"val_loss\"])\n",
        "ax1.set( xlabel=\"Epoch\",ylabel='Loss')\n",
        "ax1.set_xticks(epochs) \n",
        "ax1.legend([\"Training\",\"Validation\"])\n",
        "ax2.plot(epochs,history.history[\"accuracy\"],epochs,history.history[\"val_accuracy\"])\n",
        "ax2.set( xlabel=\"Epoch\",ylabel='Accuracy')\n",
        "ax2.set_xticks(epochs) \n",
        "ax2.legend([\"Training\",\"Validation\"])\n",
        "plt.show()\n"
      ],
      "metadata": {
        "id": "bPBrvodpdWoP",
        "colab": {
          "base_uri": "https://localhost:8080/",
          "height": 606
        },
        "outputId": "0fd4de5d-f7d4-4f3e-c8f8-7801d004d6eb"
      },
      "execution_count": null,
      "outputs": [
        {
          "output_type": "display_data",
          "data": {
            "text/plain": [
              "<Figure size 720x720 with 2 Axes>"
            ],
            "image/png": "[encoded data removed]"
          },
          "metadata": {
            "needs_background": "light"
          }
        }
      ]
    },
    {
      "cell_type": "markdown",
      "source": [
        "### EVALUATE MODEL"
      ],
      "metadata": {
        "id": "-Xo5YKvV344E"
      }
    },
    {
      "cell_type": "code",
      "source": [
        "test_loss, test_accuracy = model.evaluate(x_test,y_test)"
      ],
      "metadata": {
        "colab": {
          "base_uri": "https://localhost:8080/"
        },
        "id": "qnGyHg4V37PC",
        "outputId": "4f2e417f-34d0-4ccb-cf2b-59aaffa5b6fd"
      },
      "execution_count": null,
      "outputs": [
        {
          "output_type": "stream",
          "name": "stdout",
          "text": [
            "313/313 [==============================] - 1s 2ms/step - loss: 0.1645 - accuracy: 0.9697\n"
          ]
        }
      ]
    },
    {
      "cell_type": "code",
      "source": [
        "print(f\"training accuracy  : {history.history['accuracy'][-1]:.3f}\")\n",
        "print(f\"validation accuracy: {history.history['val_accuracy'][-1]:.3f}\")\n",
        "print(f\"test accuracy      : {test_accuracy:.3f}\")"
      ],
      "metadata": {
        "colab": {
          "base_uri": "https://localhost:8080/"
        },
        "id": "pfrBsbKa4AFg",
        "outputId": "53e8e594-8bd1-4061-d131-a6713b87e72b"
      },
      "execution_count": null,
      "outputs": [
        {
          "output_type": "stream",
          "name": "stdout",
          "text": [
            "training accuracy  : 0.980\n",
            "validation accuracy: 0.973\n",
            "test accuracy      : 0.970\n"
          ]
        }
      ]
    },
    {
      "cell_type": "code",
      "source": [
        "print(f\"training loss  : {history.history['loss'][-1]:.3f}\")\n",
        "print(f\"validation loss: {history.history['val_loss'][-1]:.3f}\")\n",
        "print(f\"test loss      : {test_loss:.3f}\")"
      ],
      "metadata": {
        "colab": {
          "base_uri": "https://localhost:8080/"
        },
        "id": "DOoicnwP4nqv",
        "outputId": "dc479965-8bbd-4dae-9630-978e33e85fdb"
      },
      "execution_count": null,
      "outputs": [
        {
          "output_type": "stream",
          "name": "stdout",
          "text": [
            "training loss  : 0.131\n",
            "validation loss: 0.155\n",
            "test loss      : 0.165\n"
          ]
        }
      ]
    },
    {
      "cell_type": "markdown",
      "source": [
        "### PREDICT RANDOM IMAGES"
      ],
      "metadata": {
        "id": "qiZA3zTX8huE"
      }
    },
    {
      "cell_type": "code",
      "source": [
        "import numpy as np\n",
        "from tensorflow.nn import softmax\n",
        "num_samples=30\n",
        "random_indices=np.random.choice(len(x_test), num_samples, replace=False)     \n",
        "fig, ax_arr = plt.subplots(3,10,figsize=(20,6))\n",
        "\n",
        "for i in range(ax_arr.shape[0]):\n",
        "    for j in range(ax_arr.shape[1]):\n",
        "        idx = random_indices[i*ax_arr.shape[0]+j]\n",
        "        ax_arr[i,j].imshow(x_test[idx].reshape(28,-1), cmap=\"gray\")\n",
        "        output = model.predict(x_test[idx].reshape(1,-1),verbose=0)\n",
        "        prediction = np.argmax(output)\n",
        "        probability = 100*softmax(output)[0,prediction]\n",
        "        ax_arr[i,j].set_title(f\"True label:{y_test[idx]}\\n Predicted:{prediction}\\nProbability:%{probability:.2f}\")\n",
        "        ax_arr[i,j].axis(\"off\")\n",
        "plt.subplots_adjust(top=1.3,right=1.1)\n",
        "\n",
        "\n",
        " "
      ],
      "metadata": {
        "colab": {
          "base_uri": "https://localhost:8080/",
          "height": 554
        },
        "id": "bLCG3iIA8ncL",
        "outputId": "6cc3372d-039c-4add-a42a-d551ad2e1bcd"
      },
      "execution_count": null,
      "outputs": [
        {
          "output_type": "display_data",
          "data": {
            "text/plain": [
              "<Figure size 1440x432 with 30 Axes>"
            ],
            "image/png": "[encoded data removed]"
          },
          "metadata": {
            "needs_background": "light"
          }
        }
      ]
    }
  ]
}